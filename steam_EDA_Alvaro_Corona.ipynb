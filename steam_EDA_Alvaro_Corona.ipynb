{
 "cells": [
  {
   "cell_type": "markdown",
   "id": "86a1dad7",
   "metadata": {},
   "source": [
    "![](https://import.cdn.thinkific.com/220744/BExaQBPPQairRWFqxFbK_logo_mastermind_web_png)\n"
   ]
  },
  {
   "cell_type": "markdown",
   "id": "fe9937c1",
   "metadata": {},
   "source": [
    "¡Ahora es **vuestro turno!**\n",
    "\n",
    "En este proyecto final os he adjuntado un Dataset con 27.075 juegos en **Steam**, la popular plataforma de juegos de PC. Esta lista está actualizada desde el inicio hasta Abril de 2019.\n",
    "\n",
    "Ya que tenéis los conocimientos, os pediré que me contestéis a **10 preguntas**:\n",
    "\n",
    "1. Cual es el TOP10 de juegos más jugados?\n",
    "2. Cuál es el género de videojuegos más vendido?\n",
    "3. Qué géneros tienen mejores reviews de media?\n",
    "4. Cuánto ha ganado el desarrollador que más juegos ha vendido?\n",
    "5. Cómo afecta a las reviews que un juego sea Early Access?\n",
    "6. Cuál es el desarrollador (o desarrolladores) que más tipos de juego y cantidad ha desarrollado?\n",
    "7. En qué mes, desde que tenemos datos, se han publicado más juegos?\n",
    "8. Cuántas horas se juega de media a cada tipo de juego mensualmente?\n",
    "9. Los juegos Free to Play tienen mejores o peores reviews?\n",
    "10. Cómo ha evolucionado el número de achievements (trofeos) por juego?\n",
    "\n",
    "Os dejamos via libre para contestar a estas preguntas como más os apetezca. Recordad que no hay nada de malo en consultar por internet si tenéis dudas. Las documentaciones oficiales o [Stack Overflow](https://stackoverflow.com/) son sitios geniales para ello!\n",
    "\n",
    "Al acabar este proyecto, publicadlo en el foro donde está colgado para ver quién es el mejor!\n",
    "\n",
    "Os dejo la guía de pasos a seguir.\n",
    "\n",
    "Muchos ánimos!!\n"
   ]
  },
  {
   "cell_type": "markdown",
   "id": "18df0261",
   "metadata": {},
   "source": [
    "# Importando librerías"
   ]
  },
  {
   "cell_type": "code",
   "execution_count": 1,
   "id": "923c8888",
   "metadata": {},
   "outputs": [],
   "source": [
    "import pandas as pd\n",
    "import numpy as np\n",
    "import matplotlib\n",
    "import matplotlib.pyplot as plt\n",
    "import seaborn as sns"
   ]
  },
  {
   "cell_type": "markdown",
   "id": "e3acb737",
   "metadata": {},
   "source": [
    "# Consiguiendo los datos"
   ]
  },
  {
   "cell_type": "markdown",
   "id": "42f5d40b",
   "metadata": {},
   "source": [
    "### Conseguir path"
   ]
  },
  {
   "cell_type": "code",
   "execution_count": 2,
   "id": "ad9ca0ff",
   "metadata": {},
   "outputs": [],
   "source": [
    "path = \"../Data/SteamDataset-220424-201858.zip\""
   ]
  },
  {
   "cell_type": "markdown",
   "id": "d80298c8",
   "metadata": {},
   "source": [
    "### Descomprimir el archivo"
   ]
  },
  {
   "cell_type": "code",
   "execution_count": 3,
   "metadata": {},
   "outputs": [],
   "source": [
    "from zipfile import ZipFile"
   ]
  },
  {
   "cell_type": "code",
   "execution_count": 4,
   "metadata": {},
   "outputs": [],
   "source": [
    "steam_zip = ZipFile(path)"
   ]
  },
  {
   "cell_type": "code",
   "execution_count": 5,
   "metadata": {},
   "outputs": [
    {
     "data": {
      "text/plain": [
       "[<ZipInfo filename='steam.csv' compress_type=deflate external_attr=0x20 file_size=3425223 compress_size=979195>]"
      ]
     },
     "execution_count": 5,
     "metadata": {},
     "output_type": "execute_result"
    }
   ],
   "source": [
    "steam_zip.filelist"
   ]
  },
  {
   "cell_type": "markdown",
   "id": "9a36b95a",
   "metadata": {},
   "source": [
    "### Construir DataFrame"
   ]
  },
  {
   "cell_type": "code",
   "execution_count": 6,
   "id": "715bbc8f",
   "metadata": {},
   "outputs": [],
   "source": [
    "steam_df = pd.read_csv(steam_zip.open('steam.csv'), index_col=[0])"
   ]
  },
  {
   "cell_type": "code",
   "execution_count": 7,
   "metadata": {},
   "outputs": [
    {
     "data": {
      "text/html": [
       "<div>\n",
       "<style scoped>\n",
       "    .dataframe tbody tr th:only-of-type {\n",
       "        vertical-align: middle;\n",
       "    }\n",
       "\n",
       "    .dataframe tbody tr th {\n",
       "        vertical-align: top;\n",
       "    }\n",
       "\n",
       "    .dataframe thead th {\n",
       "        text-align: right;\n",
       "    }\n",
       "</style>\n",
       "<table border=\"1\" class=\"dataframe\">\n",
       "  <thead>\n",
       "    <tr style=\"text-align: right;\">\n",
       "      <th></th>\n",
       "      <th>name</th>\n",
       "      <th>release_date</th>\n",
       "      <th>developer</th>\n",
       "      <th>achievements</th>\n",
       "      <th>positive_ratings</th>\n",
       "      <th>negative_ratings</th>\n",
       "      <th>avg_hours_per_user</th>\n",
       "      <th>price</th>\n",
       "      <th>sells</th>\n",
       "      <th>action</th>\n",
       "      <th>adventure</th>\n",
       "      <th>rpg</th>\n",
       "      <th>simulation</th>\n",
       "      <th>strategy</th>\n",
       "      <th>racing</th>\n",
       "      <th>free_to_play</th>\n",
       "      <th>early_access</th>\n",
       "    </tr>\n",
       "  </thead>\n",
       "  <tbody>\n",
       "    <tr>\n",
       "      <th>0</th>\n",
       "      <td>Counter-Strike</td>\n",
       "      <td>2000-11-01</td>\n",
       "      <td>Valve</td>\n",
       "      <td>0</td>\n",
       "      <td>124534</td>\n",
       "      <td>3339</td>\n",
       "      <td>17612</td>\n",
       "      <td>7.19€</td>\n",
       "      <td>15000000.0</td>\n",
       "      <td>True</td>\n",
       "      <td>False</td>\n",
       "      <td>False</td>\n",
       "      <td>False</td>\n",
       "      <td>False</td>\n",
       "      <td>False</td>\n",
       "      <td>False</td>\n",
       "      <td>False</td>\n",
       "    </tr>\n",
       "    <tr>\n",
       "      <th>1</th>\n",
       "      <td>Team Fortress Classic</td>\n",
       "      <td>1999-04-01</td>\n",
       "      <td>Valve</td>\n",
       "      <td>0</td>\n",
       "      <td>3318</td>\n",
       "      <td>633</td>\n",
       "      <td>277</td>\n",
       "      <td>3.99€</td>\n",
       "      <td>7500000.0</td>\n",
       "      <td>True</td>\n",
       "      <td>False</td>\n",
       "      <td>False</td>\n",
       "      <td>False</td>\n",
       "      <td>False</td>\n",
       "      <td>False</td>\n",
       "      <td>False</td>\n",
       "      <td>False</td>\n",
       "    </tr>\n",
       "    <tr>\n",
       "      <th>2</th>\n",
       "      <td>Day of Defeat</td>\n",
       "      <td>2003-05-01</td>\n",
       "      <td>Valve</td>\n",
       "      <td>0</td>\n",
       "      <td>3416</td>\n",
       "      <td>398</td>\n",
       "      <td>187</td>\n",
       "      <td>3.99€</td>\n",
       "      <td>7500000.0</td>\n",
       "      <td>True</td>\n",
       "      <td>False</td>\n",
       "      <td>False</td>\n",
       "      <td>False</td>\n",
       "      <td>False</td>\n",
       "      <td>False</td>\n",
       "      <td>False</td>\n",
       "      <td>False</td>\n",
       "    </tr>\n",
       "    <tr>\n",
       "      <th>3</th>\n",
       "      <td>Deathmatch Classic</td>\n",
       "      <td>2001-06-01</td>\n",
       "      <td>Valve</td>\n",
       "      <td>0</td>\n",
       "      <td>1273</td>\n",
       "      <td>267</td>\n",
       "      <td>258</td>\n",
       "      <td>3.99€</td>\n",
       "      <td>7500000.0</td>\n",
       "      <td>True</td>\n",
       "      <td>False</td>\n",
       "      <td>False</td>\n",
       "      <td>False</td>\n",
       "      <td>False</td>\n",
       "      <td>False</td>\n",
       "      <td>False</td>\n",
       "      <td>False</td>\n",
       "    </tr>\n",
       "    <tr>\n",
       "      <th>4</th>\n",
       "      <td>Half-Life: Opposing Force</td>\n",
       "      <td>1999-11-01</td>\n",
       "      <td>Gearbox Software</td>\n",
       "      <td>0</td>\n",
       "      <td>5250</td>\n",
       "      <td>288</td>\n",
       "      <td>624</td>\n",
       "      <td>3.99€</td>\n",
       "      <td>7500000.0</td>\n",
       "      <td>True</td>\n",
       "      <td>False</td>\n",
       "      <td>False</td>\n",
       "      <td>False</td>\n",
       "      <td>False</td>\n",
       "      <td>False</td>\n",
       "      <td>False</td>\n",
       "      <td>False</td>\n",
       "    </tr>\n",
       "  </tbody>\n",
       "</table>\n",
       "</div>"
      ],
      "text/plain": [
       "                        name release_date         developer  achievements  \\\n",
       "0             Counter-Strike   2000-11-01             Valve             0   \n",
       "1      Team Fortress Classic   1999-04-01             Valve             0   \n",
       "2              Day of Defeat   2003-05-01             Valve             0   \n",
       "3         Deathmatch Classic   2001-06-01             Valve             0   \n",
       "4  Half-Life: Opposing Force   1999-11-01  Gearbox Software             0   \n",
       "\n",
       "   positive_ratings  negative_ratings  avg_hours_per_user  price       sells  \\\n",
       "0            124534              3339               17612  7.19€  15000000.0   \n",
       "1              3318               633                 277  3.99€   7500000.0   \n",
       "2              3416               398                 187  3.99€   7500000.0   \n",
       "3              1273               267                 258  3.99€   7500000.0   \n",
       "4              5250               288                 624  3.99€   7500000.0   \n",
       "\n",
       "   action  adventure    rpg  simulation  strategy  racing  free_to_play  \\\n",
       "0    True      False  False       False     False   False         False   \n",
       "1    True      False  False       False     False   False         False   \n",
       "2    True      False  False       False     False   False         False   \n",
       "3    True      False  False       False     False   False         False   \n",
       "4    True      False  False       False     False   False         False   \n",
       "\n",
       "   early_access  \n",
       "0         False  \n",
       "1         False  \n",
       "2         False  \n",
       "3         False  \n",
       "4         False  "
      ]
     },
     "execution_count": 7,
     "metadata": {},
     "output_type": "execute_result"
    }
   ],
   "source": [
    "steam_df.head()"
   ]
  },
  {
   "cell_type": "markdown",
   "id": "2ca18c79",
   "metadata": {},
   "source": [
    "# Limpieza y manipulación de datos"
   ]
  },
  {
   "cell_type": "markdown",
   "id": "daf803f8",
   "metadata": {},
   "source": [
    "## Quitar datos duplicados o irrelevantes"
   ]
  },
  {
   "cell_type": "code",
   "execution_count": 8,
   "id": "b62c4b31",
   "metadata": {},
   "outputs": [
    {
     "data": {
      "text/plain": [
       "0        False\n",
       "1        False\n",
       "2        False\n",
       "3        False\n",
       "4        False\n",
       "         ...  \n",
       "27098     True\n",
       "27099     True\n",
       "27100     True\n",
       "27101     True\n",
       "27102     True\n",
       "Length: 27103, dtype: bool"
      ]
     },
     "execution_count": 8,
     "metadata": {},
     "output_type": "execute_result"
    }
   ],
   "source": [
    "steam_df.duplicated()"
   ]
  },
  {
   "cell_type": "code",
   "execution_count": 9,
   "metadata": {},
   "outputs": [
    {
     "data": {
      "text/plain": [
       "array([False,  True])"
      ]
     },
     "execution_count": 9,
     "metadata": {},
     "output_type": "execute_result"
    }
   ],
   "source": [
    "steam_df.duplicated().unique()"
   ]
  },
  {
   "cell_type": "code",
   "execution_count": 10,
   "metadata": {},
   "outputs": [],
   "source": [
    "steam_df = steam_df.drop_duplicates()"
   ]
  },
  {
   "cell_type": "code",
   "execution_count": 11,
   "metadata": {},
   "outputs": [
    {
     "data": {
      "text/plain": [
       "array([False])"
      ]
     },
     "execution_count": 11,
     "metadata": {},
     "output_type": "execute_result"
    }
   ],
   "source": [
    "steam_df.duplicated().unique()"
   ]
  },
  {
   "cell_type": "markdown",
   "id": "0fb77f6d",
   "metadata": {},
   "source": [
    "## Arreglar errores estructurales"
   ]
  },
  {
   "cell_type": "code",
   "execution_count": 12,
   "id": "087c63b0",
   "metadata": {},
   "outputs": [
    {
     "data": {
      "text/html": [
       "<div>\n",
       "<style scoped>\n",
       "    .dataframe tbody tr th:only-of-type {\n",
       "        vertical-align: middle;\n",
       "    }\n",
       "\n",
       "    .dataframe tbody tr th {\n",
       "        vertical-align: top;\n",
       "    }\n",
       "\n",
       "    .dataframe thead th {\n",
       "        text-align: right;\n",
       "    }\n",
       "</style>\n",
       "<table border=\"1\" class=\"dataframe\">\n",
       "  <thead>\n",
       "    <tr style=\"text-align: right;\">\n",
       "      <th></th>\n",
       "      <th>name</th>\n",
       "      <th>release_date</th>\n",
       "      <th>developer</th>\n",
       "      <th>achievements</th>\n",
       "      <th>positive_ratings</th>\n",
       "      <th>negative_ratings</th>\n",
       "      <th>avg_hours_per_user</th>\n",
       "      <th>price</th>\n",
       "      <th>sells</th>\n",
       "      <th>action</th>\n",
       "      <th>adventure</th>\n",
       "      <th>rpg</th>\n",
       "      <th>simulation</th>\n",
       "      <th>strategy</th>\n",
       "      <th>racing</th>\n",
       "      <th>free_to_play</th>\n",
       "      <th>early_access</th>\n",
       "    </tr>\n",
       "  </thead>\n",
       "  <tbody>\n",
       "    <tr>\n",
       "      <th>0</th>\n",
       "      <td>Counter-Strike</td>\n",
       "      <td>2000-11-01</td>\n",
       "      <td>Valve</td>\n",
       "      <td>0</td>\n",
       "      <td>124534</td>\n",
       "      <td>3339</td>\n",
       "      <td>17612</td>\n",
       "      <td>7.19€</td>\n",
       "      <td>15000000.0</td>\n",
       "      <td>True</td>\n",
       "      <td>False</td>\n",
       "      <td>False</td>\n",
       "      <td>False</td>\n",
       "      <td>False</td>\n",
       "      <td>False</td>\n",
       "      <td>False</td>\n",
       "      <td>False</td>\n",
       "    </tr>\n",
       "    <tr>\n",
       "      <th>1</th>\n",
       "      <td>Team Fortress Classic</td>\n",
       "      <td>1999-04-01</td>\n",
       "      <td>Valve</td>\n",
       "      <td>0</td>\n",
       "      <td>3318</td>\n",
       "      <td>633</td>\n",
       "      <td>277</td>\n",
       "      <td>3.99€</td>\n",
       "      <td>7500000.0</td>\n",
       "      <td>True</td>\n",
       "      <td>False</td>\n",
       "      <td>False</td>\n",
       "      <td>False</td>\n",
       "      <td>False</td>\n",
       "      <td>False</td>\n",
       "      <td>False</td>\n",
       "      <td>False</td>\n",
       "    </tr>\n",
       "    <tr>\n",
       "      <th>2</th>\n",
       "      <td>Day of Defeat</td>\n",
       "      <td>2003-05-01</td>\n",
       "      <td>Valve</td>\n",
       "      <td>0</td>\n",
       "      <td>3416</td>\n",
       "      <td>398</td>\n",
       "      <td>187</td>\n",
       "      <td>3.99€</td>\n",
       "      <td>7500000.0</td>\n",
       "      <td>True</td>\n",
       "      <td>False</td>\n",
       "      <td>False</td>\n",
       "      <td>False</td>\n",
       "      <td>False</td>\n",
       "      <td>False</td>\n",
       "      <td>False</td>\n",
       "      <td>False</td>\n",
       "    </tr>\n",
       "    <tr>\n",
       "      <th>3</th>\n",
       "      <td>Deathmatch Classic</td>\n",
       "      <td>2001-06-01</td>\n",
       "      <td>Valve</td>\n",
       "      <td>0</td>\n",
       "      <td>1273</td>\n",
       "      <td>267</td>\n",
       "      <td>258</td>\n",
       "      <td>3.99€</td>\n",
       "      <td>7500000.0</td>\n",
       "      <td>True</td>\n",
       "      <td>False</td>\n",
       "      <td>False</td>\n",
       "      <td>False</td>\n",
       "      <td>False</td>\n",
       "      <td>False</td>\n",
       "      <td>False</td>\n",
       "      <td>False</td>\n",
       "    </tr>\n",
       "    <tr>\n",
       "      <th>4</th>\n",
       "      <td>Half-Life: Opposing Force</td>\n",
       "      <td>1999-11-01</td>\n",
       "      <td>Gearbox Software</td>\n",
       "      <td>0</td>\n",
       "      <td>5250</td>\n",
       "      <td>288</td>\n",
       "      <td>624</td>\n",
       "      <td>3.99€</td>\n",
       "      <td>7500000.0</td>\n",
       "      <td>True</td>\n",
       "      <td>False</td>\n",
       "      <td>False</td>\n",
       "      <td>False</td>\n",
       "      <td>False</td>\n",
       "      <td>False</td>\n",
       "      <td>False</td>\n",
       "      <td>False</td>\n",
       "    </tr>\n",
       "  </tbody>\n",
       "</table>\n",
       "</div>"
      ],
      "text/plain": [
       "                        name release_date         developer  achievements  \\\n",
       "0             Counter-Strike   2000-11-01             Valve             0   \n",
       "1      Team Fortress Classic   1999-04-01             Valve             0   \n",
       "2              Day of Defeat   2003-05-01             Valve             0   \n",
       "3         Deathmatch Classic   2001-06-01             Valve             0   \n",
       "4  Half-Life: Opposing Force   1999-11-01  Gearbox Software             0   \n",
       "\n",
       "   positive_ratings  negative_ratings  avg_hours_per_user  price       sells  \\\n",
       "0            124534              3339               17612  7.19€  15000000.0   \n",
       "1              3318               633                 277  3.99€   7500000.0   \n",
       "2              3416               398                 187  3.99€   7500000.0   \n",
       "3              1273               267                 258  3.99€   7500000.0   \n",
       "4              5250               288                 624  3.99€   7500000.0   \n",
       "\n",
       "   action  adventure    rpg  simulation  strategy  racing  free_to_play  \\\n",
       "0    True      False  False       False     False   False         False   \n",
       "1    True      False  False       False     False   False         False   \n",
       "2    True      False  False       False     False   False         False   \n",
       "3    True      False  False       False     False   False         False   \n",
       "4    True      False  False       False     False   False         False   \n",
       "\n",
       "   early_access  \n",
       "0         False  \n",
       "1         False  \n",
       "2         False  \n",
       "3         False  \n",
       "4         False  "
      ]
     },
     "execution_count": 12,
     "metadata": {},
     "output_type": "execute_result"
    }
   ],
   "source": [
    "steam_df.head()"
   ]
  },
  {
   "cell_type": "markdown",
   "id": "04610459",
   "metadata": {},
   "source": [
    "### Definir errores\n",
    "\n",
    "Recuerda hacer una exploración de datos para encontrar estos errores. Os confirmo que hay unos cuantos!\n"
   ]
  },
  {
   "cell_type": "code",
   "execution_count": 13,
   "metadata": {},
   "outputs": [
    {
     "name": "stdout",
     "output_type": "stream",
     "text": [
      "<class 'pandas.core.frame.DataFrame'>\n",
      "Int64Index: 27075 entries, 0 to 27074\n",
      "Data columns (total 17 columns):\n",
      " #   Column              Non-Null Count  Dtype  \n",
      "---  ------              --------------  -----  \n",
      " 0   name                27075 non-null  object \n",
      " 1   release_date        27075 non-null  object \n",
      " 2   developer           27075 non-null  object \n",
      " 3   achievements        27075 non-null  int64  \n",
      " 4   positive_ratings    27075 non-null  int64  \n",
      " 5   negative_ratings    27075 non-null  int64  \n",
      " 6   avg_hours_per_user  27075 non-null  int64  \n",
      " 7   price               27075 non-null  object \n",
      " 8   sells               27075 non-null  float64\n",
      " 9   action              27075 non-null  bool   \n",
      " 10  adventure           27075 non-null  bool   \n",
      " 11  rpg                 27075 non-null  bool   \n",
      " 12  simulation          27075 non-null  bool   \n",
      " 13  strategy            27075 non-null  bool   \n",
      " 14  racing              27075 non-null  bool   \n",
      " 15  free_to_play        27075 non-null  bool   \n",
      " 16  early_access        27075 non-null  bool   \n",
      "dtypes: bool(8), float64(1), int64(4), object(4)\n",
      "memory usage: 2.3+ MB\n"
     ]
    }
   ],
   "source": [
    "steam_df.info()"
   ]
  },
  {
   "cell_type": "code",
   "execution_count": 14,
   "metadata": {},
   "outputs": [],
   "source": [
    "steam_df['release_date'] = pd.to_datetime(steam_df['release_date'])"
   ]
  },
  {
   "cell_type": "code",
   "execution_count": 15,
   "metadata": {},
   "outputs": [],
   "source": [
    "steam_df['price'] = steam_df['price'].str.replace('€', '')"
   ]
  },
  {
   "cell_type": "code",
   "execution_count": 16,
   "metadata": {},
   "outputs": [],
   "source": [
    "steam_df['price'] = pd.to_numeric(steam_df['price'])"
   ]
  },
  {
   "cell_type": "code",
   "execution_count": 17,
   "metadata": {},
   "outputs": [],
   "source": [
    "steam_df['sells'] = steam_df['sells'].astype(int)"
   ]
  },
  {
   "cell_type": "code",
   "execution_count": 18,
   "metadata": {},
   "outputs": [
    {
     "name": "stdout",
     "output_type": "stream",
     "text": [
      "<class 'pandas.core.frame.DataFrame'>\n",
      "Int64Index: 27075 entries, 0 to 27074\n",
      "Data columns (total 17 columns):\n",
      " #   Column              Non-Null Count  Dtype         \n",
      "---  ------              --------------  -----         \n",
      " 0   name                27075 non-null  object        \n",
      " 1   release_date        27075 non-null  datetime64[ns]\n",
      " 2   developer           27075 non-null  object        \n",
      " 3   achievements        27075 non-null  int64         \n",
      " 4   positive_ratings    27075 non-null  int64         \n",
      " 5   negative_ratings    27075 non-null  int64         \n",
      " 6   avg_hours_per_user  27075 non-null  int64         \n",
      " 7   price               27075 non-null  float64       \n",
      " 8   sells               27075 non-null  int32         \n",
      " 9   action              27075 non-null  bool          \n",
      " 10  adventure           27075 non-null  bool          \n",
      " 11  rpg                 27075 non-null  bool          \n",
      " 12  simulation          27075 non-null  bool          \n",
      " 13  strategy            27075 non-null  bool          \n",
      " 14  racing              27075 non-null  bool          \n",
      " 15  free_to_play        27075 non-null  bool          \n",
      " 16  early_access        27075 non-null  bool          \n",
      "dtypes: bool(8), datetime64[ns](1), float64(1), int32(1), int64(4), object(2)\n",
      "memory usage: 2.2+ MB\n"
     ]
    }
   ],
   "source": [
    "steam_df.info()"
   ]
  },
  {
   "cell_type": "markdown",
   "id": "82c72807",
   "metadata": {},
   "source": [
    "## Filtrar outliers "
   ]
  },
  {
   "cell_type": "code",
   "execution_count": 19,
   "id": "6fa2e9ad",
   "metadata": {},
   "outputs": [
    {
     "data": {
      "text/html": [
       "<div>\n",
       "<style scoped>\n",
       "    .dataframe tbody tr th:only-of-type {\n",
       "        vertical-align: middle;\n",
       "    }\n",
       "\n",
       "    .dataframe tbody tr th {\n",
       "        vertical-align: top;\n",
       "    }\n",
       "\n",
       "    .dataframe thead th {\n",
       "        text-align: right;\n",
       "    }\n",
       "</style>\n",
       "<table border=\"1\" class=\"dataframe\">\n",
       "  <thead>\n",
       "    <tr style=\"text-align: right;\">\n",
       "      <th></th>\n",
       "      <th>achievements</th>\n",
       "      <th>positive_ratings</th>\n",
       "      <th>negative_ratings</th>\n",
       "      <th>avg_hours_per_user</th>\n",
       "      <th>price</th>\n",
       "      <th>sells</th>\n",
       "    </tr>\n",
       "  </thead>\n",
       "  <tbody>\n",
       "    <tr>\n",
       "      <th>count</th>\n",
       "      <td>27075.000000</td>\n",
       "      <td>2.707500e+04</td>\n",
       "      <td>27075.000000</td>\n",
       "      <td>27075.000000</td>\n",
       "      <td>27075.000000</td>\n",
       "      <td>2.707500e+04</td>\n",
       "    </tr>\n",
       "    <tr>\n",
       "      <th>mean</th>\n",
       "      <td>45.248864</td>\n",
       "      <td>1.000559e+03</td>\n",
       "      <td>211.027147</td>\n",
       "      <td>149.804949</td>\n",
       "      <td>6.078193</td>\n",
       "      <td>1.340905e+05</td>\n",
       "    </tr>\n",
       "    <tr>\n",
       "      <th>std</th>\n",
       "      <td>352.670281</td>\n",
       "      <td>1.898872e+04</td>\n",
       "      <td>4284.938531</td>\n",
       "      <td>1827.038141</td>\n",
       "      <td>7.874922</td>\n",
       "      <td>1.328089e+06</td>\n",
       "    </tr>\n",
       "    <tr>\n",
       "      <th>min</th>\n",
       "      <td>0.000000</td>\n",
       "      <td>0.000000e+00</td>\n",
       "      <td>0.000000</td>\n",
       "      <td>0.000000</td>\n",
       "      <td>0.000000</td>\n",
       "      <td>1.000000e+04</td>\n",
       "    </tr>\n",
       "    <tr>\n",
       "      <th>25%</th>\n",
       "      <td>0.000000</td>\n",
       "      <td>6.000000e+00</td>\n",
       "      <td>2.000000</td>\n",
       "      <td>0.000000</td>\n",
       "      <td>1.690000</td>\n",
       "      <td>1.000000e+04</td>\n",
       "    </tr>\n",
       "    <tr>\n",
       "      <th>50%</th>\n",
       "      <td>7.000000</td>\n",
       "      <td>2.400000e+01</td>\n",
       "      <td>9.000000</td>\n",
       "      <td>0.000000</td>\n",
       "      <td>3.990000</td>\n",
       "      <td>1.000000e+04</td>\n",
       "    </tr>\n",
       "    <tr>\n",
       "      <th>75%</th>\n",
       "      <td>23.000000</td>\n",
       "      <td>1.260000e+02</td>\n",
       "      <td>42.000000</td>\n",
       "      <td>0.000000</td>\n",
       "      <td>7.190000</td>\n",
       "      <td>3.500000e+04</td>\n",
       "    </tr>\n",
       "    <tr>\n",
       "      <th>max</th>\n",
       "      <td>9821.000000</td>\n",
       "      <td>2.644404e+06</td>\n",
       "      <td>487076.000000</td>\n",
       "      <td>190625.000000</td>\n",
       "      <td>421.990000</td>\n",
       "      <td>1.500000e+08</td>\n",
       "    </tr>\n",
       "  </tbody>\n",
       "</table>\n",
       "</div>"
      ],
      "text/plain": [
       "       achievements  positive_ratings  negative_ratings  avg_hours_per_user  \\\n",
       "count  27075.000000      2.707500e+04      27075.000000        27075.000000   \n",
       "mean      45.248864      1.000559e+03        211.027147          149.804949   \n",
       "std      352.670281      1.898872e+04       4284.938531         1827.038141   \n",
       "min        0.000000      0.000000e+00          0.000000            0.000000   \n",
       "25%        0.000000      6.000000e+00          2.000000            0.000000   \n",
       "50%        7.000000      2.400000e+01          9.000000            0.000000   \n",
       "75%       23.000000      1.260000e+02         42.000000            0.000000   \n",
       "max     9821.000000      2.644404e+06     487076.000000       190625.000000   \n",
       "\n",
       "              price         sells  \n",
       "count  27075.000000  2.707500e+04  \n",
       "mean       6.078193  1.340905e+05  \n",
       "std        7.874922  1.328089e+06  \n",
       "min        0.000000  1.000000e+04  \n",
       "25%        1.690000  1.000000e+04  \n",
       "50%        3.990000  1.000000e+04  \n",
       "75%        7.190000  3.500000e+04  \n",
       "max      421.990000  1.500000e+08  "
      ]
     },
     "execution_count": 19,
     "metadata": {},
     "output_type": "execute_result"
    }
   ],
   "source": [
    "steam_df.describe()"
   ]
  },
  {
   "cell_type": "code",
   "execution_count": 20,
   "metadata": {},
   "outputs": [
    {
     "name": "stdout",
     "output_type": "stream",
     "text": [
      "cero se repite como valor 20905 veces en avg_hours_per_user\n"
     ]
    }
   ],
   "source": [
    "zero_count = steam_df['avg_hours_per_user'].value_counts()[0]\n",
    "print(f'cero se repite como valor {zero_count} veces en avg_hours_per_user')"
   ]
  },
  {
   "cell_type": "markdown",
   "id": "803c8e9c",
   "metadata": {},
   "source": [
    "## Lidiar con NANs"
   ]
  },
  {
   "cell_type": "code",
   "execution_count": 21,
   "id": "53a40496",
   "metadata": {},
   "outputs": [
    {
     "data": {
      "text/plain": [
       "name                  False\n",
       "release_date          False\n",
       "developer             False\n",
       "achievements          False\n",
       "positive_ratings      False\n",
       "negative_ratings      False\n",
       "avg_hours_per_user    False\n",
       "price                 False\n",
       "sells                 False\n",
       "action                False\n",
       "adventure             False\n",
       "rpg                   False\n",
       "simulation            False\n",
       "strategy              False\n",
       "racing                False\n",
       "free_to_play          False\n",
       "early_access          False\n",
       "dtype: bool"
      ]
     },
     "execution_count": 21,
     "metadata": {},
     "output_type": "execute_result"
    }
   ],
   "source": [
    "steam_df.isna().any()"
   ]
  },
  {
   "cell_type": "markdown",
   "id": "6a1ff706",
   "metadata": {},
   "source": [
    "## Validar nuestros datos"
   ]
  },
  {
   "cell_type": "code",
   "execution_count": 22,
   "id": "762c8568",
   "metadata": {},
   "outputs": [
    {
     "data": {
      "text/html": [
       "<div>\n",
       "<style scoped>\n",
       "    .dataframe tbody tr th:only-of-type {\n",
       "        vertical-align: middle;\n",
       "    }\n",
       "\n",
       "    .dataframe tbody tr th {\n",
       "        vertical-align: top;\n",
       "    }\n",
       "\n",
       "    .dataframe thead th {\n",
       "        text-align: right;\n",
       "    }\n",
       "</style>\n",
       "<table border=\"1\" class=\"dataframe\">\n",
       "  <thead>\n",
       "    <tr style=\"text-align: right;\">\n",
       "      <th></th>\n",
       "      <th>name</th>\n",
       "      <th>release_date</th>\n",
       "      <th>developer</th>\n",
       "      <th>achievements</th>\n",
       "      <th>positive_ratings</th>\n",
       "      <th>negative_ratings</th>\n",
       "      <th>avg_hours_per_user</th>\n",
       "      <th>price</th>\n",
       "      <th>sells</th>\n",
       "      <th>action</th>\n",
       "      <th>adventure</th>\n",
       "      <th>rpg</th>\n",
       "      <th>simulation</th>\n",
       "      <th>strategy</th>\n",
       "      <th>racing</th>\n",
       "      <th>free_to_play</th>\n",
       "      <th>early_access</th>\n",
       "    </tr>\n",
       "  </thead>\n",
       "  <tbody>\n",
       "    <tr>\n",
       "      <th>27070</th>\n",
       "      <td>Room of Pandora</td>\n",
       "      <td>2019-04-24</td>\n",
       "      <td>SHEN JIAWEI</td>\n",
       "      <td>7</td>\n",
       "      <td>3</td>\n",
       "      <td>0</td>\n",
       "      <td>0</td>\n",
       "      <td>2.09</td>\n",
       "      <td>10000</td>\n",
       "      <td>False</td>\n",
       "      <td>True</td>\n",
       "      <td>False</td>\n",
       "      <td>False</td>\n",
       "      <td>False</td>\n",
       "      <td>False</td>\n",
       "      <td>False</td>\n",
       "      <td>False</td>\n",
       "    </tr>\n",
       "    <tr>\n",
       "      <th>27071</th>\n",
       "      <td>Cyber Gun</td>\n",
       "      <td>2019-04-23</td>\n",
       "      <td>Semyon Maximov</td>\n",
       "      <td>0</td>\n",
       "      <td>8</td>\n",
       "      <td>1</td>\n",
       "      <td>0</td>\n",
       "      <td>1.69</td>\n",
       "      <td>10000</td>\n",
       "      <td>True</td>\n",
       "      <td>True</td>\n",
       "      <td>False</td>\n",
       "      <td>False</td>\n",
       "      <td>False</td>\n",
       "      <td>False</td>\n",
       "      <td>False</td>\n",
       "      <td>False</td>\n",
       "    </tr>\n",
       "    <tr>\n",
       "      <th>27072</th>\n",
       "      <td>Super Star Blast</td>\n",
       "      <td>2019-04-24</td>\n",
       "      <td>EntwicklerX</td>\n",
       "      <td>24</td>\n",
       "      <td>0</td>\n",
       "      <td>1</td>\n",
       "      <td>0</td>\n",
       "      <td>3.99</td>\n",
       "      <td>10000</td>\n",
       "      <td>True</td>\n",
       "      <td>False</td>\n",
       "      <td>False</td>\n",
       "      <td>False</td>\n",
       "      <td>False</td>\n",
       "      <td>False</td>\n",
       "      <td>False</td>\n",
       "      <td>False</td>\n",
       "    </tr>\n",
       "    <tr>\n",
       "      <th>27073</th>\n",
       "      <td>New Yankee 7: Deer Hunters</td>\n",
       "      <td>2019-04-17</td>\n",
       "      <td>Yustas Game Studio</td>\n",
       "      <td>0</td>\n",
       "      <td>2</td>\n",
       "      <td>0</td>\n",
       "      <td>0</td>\n",
       "      <td>5.19</td>\n",
       "      <td>10000</td>\n",
       "      <td>False</td>\n",
       "      <td>True</td>\n",
       "      <td>False</td>\n",
       "      <td>False</td>\n",
       "      <td>False</td>\n",
       "      <td>False</td>\n",
       "      <td>False</td>\n",
       "      <td>False</td>\n",
       "    </tr>\n",
       "    <tr>\n",
       "      <th>27074</th>\n",
       "      <td>Rune Lord</td>\n",
       "      <td>2019-04-24</td>\n",
       "      <td>Adept Studios GD</td>\n",
       "      <td>0</td>\n",
       "      <td>4</td>\n",
       "      <td>0</td>\n",
       "      <td>0</td>\n",
       "      <td>5.19</td>\n",
       "      <td>10000</td>\n",
       "      <td>False</td>\n",
       "      <td>True</td>\n",
       "      <td>False</td>\n",
       "      <td>False</td>\n",
       "      <td>False</td>\n",
       "      <td>False</td>\n",
       "      <td>False</td>\n",
       "      <td>False</td>\n",
       "    </tr>\n",
       "  </tbody>\n",
       "</table>\n",
       "</div>"
      ],
      "text/plain": [
       "                             name release_date           developer  \\\n",
       "27070             Room of Pandora   2019-04-24         SHEN JIAWEI   \n",
       "27071                   Cyber Gun   2019-04-23      Semyon Maximov   \n",
       "27072            Super Star Blast   2019-04-24         EntwicklerX   \n",
       "27073  New Yankee 7: Deer Hunters   2019-04-17  Yustas Game Studio   \n",
       "27074                   Rune Lord   2019-04-24    Adept Studios GD   \n",
       "\n",
       "       achievements  positive_ratings  negative_ratings  avg_hours_per_user  \\\n",
       "27070             7                 3                 0                   0   \n",
       "27071             0                 8                 1                   0   \n",
       "27072            24                 0                 1                   0   \n",
       "27073             0                 2                 0                   0   \n",
       "27074             0                 4                 0                   0   \n",
       "\n",
       "       price  sells  action  adventure    rpg  simulation  strategy  racing  \\\n",
       "27070   2.09  10000   False       True  False       False     False   False   \n",
       "27071   1.69  10000    True       True  False       False     False   False   \n",
       "27072   3.99  10000    True      False  False       False     False   False   \n",
       "27073   5.19  10000   False       True  False       False     False   False   \n",
       "27074   5.19  10000   False       True  False       False     False   False   \n",
       "\n",
       "       free_to_play  early_access  \n",
       "27070         False         False  \n",
       "27071         False         False  \n",
       "27072         False         False  \n",
       "27073         False         False  \n",
       "27074         False         False  "
      ]
     },
     "execution_count": 22,
     "metadata": {},
     "output_type": "execute_result"
    }
   ],
   "source": [
    "steam_df.tail()"
   ]
  },
  {
   "cell_type": "markdown",
   "id": "370eca7d",
   "metadata": {},
   "source": [
    "# EDA"
   ]
  },
  {
   "cell_type": "markdown",
   "id": "bc753449",
   "metadata": {},
   "source": [
    "## Cual es el TOP10 de juegos más jugados?"
   ]
  },
  {
   "cell_type": "code",
   "execution_count": 23,
   "id": "707ca7b0",
   "metadata": {},
   "outputs": [],
   "source": [
    "top_played_df = steam_df[['name', 'sells', 'avg_hours_per_user']].copy()"
   ]
  },
  {
   "cell_type": "code",
   "execution_count": 24,
   "metadata": {},
   "outputs": [],
   "source": [
    "top_played_df['total_hours_played'] = top_played_df['sells'] * \\\n",
    "    top_played_df['avg_hours_per_user']"
   ]
  },
  {
   "cell_type": "code",
   "execution_count": 25,
   "metadata": {},
   "outputs": [],
   "source": [
    "top_played_df.sort_values(by='total_hours_played',\n",
    "                          ascending=False, inplace=True)"
   ]
  },
  {
   "cell_type": "code",
   "execution_count": 26,
   "metadata": {},
   "outputs": [],
   "source": [
    "top_ten_df = top_played_df.head(10).copy().reset_index(drop=True)"
   ]
  },
  {
   "cell_type": "code",
   "execution_count": 27,
   "metadata": {},
   "outputs": [
    {
     "data": {
      "text/html": [
       "<div>\n",
       "<style scoped>\n",
       "    .dataframe tbody tr th:only-of-type {\n",
       "        vertical-align: middle;\n",
       "    }\n",
       "\n",
       "    .dataframe tbody tr th {\n",
       "        vertical-align: top;\n",
       "    }\n",
       "\n",
       "    .dataframe thead th {\n",
       "        text-align: right;\n",
       "    }\n",
       "</style>\n",
       "<table border=\"1\" class=\"dataframe\">\n",
       "  <thead>\n",
       "    <tr style=\"text-align: right;\">\n",
       "      <th></th>\n",
       "      <th>name</th>\n",
       "      <th>sells</th>\n",
       "      <th>avg_hours_per_user</th>\n",
       "      <th>total_hours_played</th>\n",
       "    </tr>\n",
       "  </thead>\n",
       "  <tbody>\n",
       "    <tr>\n",
       "      <th>0</th>\n",
       "      <td>Dota 2</td>\n",
       "      <td>150000000</td>\n",
       "      <td>23944</td>\n",
       "      <td>3591600000000</td>\n",
       "    </tr>\n",
       "    <tr>\n",
       "      <th>1</th>\n",
       "      <td>PLAYERUNKNOWN'S BATTLEGROUNDS</td>\n",
       "      <td>75000000</td>\n",
       "      <td>22938</td>\n",
       "      <td>1720350000000</td>\n",
       "    </tr>\n",
       "    <tr>\n",
       "      <th>2</th>\n",
       "      <td>Counter-Strike: Global Offensive</td>\n",
       "      <td>75000000</td>\n",
       "      <td>22494</td>\n",
       "      <td>1687050000000</td>\n",
       "    </tr>\n",
       "    <tr>\n",
       "      <th>3</th>\n",
       "      <td>Team Fortress 2</td>\n",
       "      <td>35000000</td>\n",
       "      <td>8495</td>\n",
       "      <td>297325000000</td>\n",
       "    </tr>\n",
       "    <tr>\n",
       "      <th>4</th>\n",
       "      <td>Counter-Strike</td>\n",
       "      <td>15000000</td>\n",
       "      <td>17612</td>\n",
       "      <td>264180000000</td>\n",
       "    </tr>\n",
       "    <tr>\n",
       "      <th>5</th>\n",
       "      <td>Warframe</td>\n",
       "      <td>35000000</td>\n",
       "      <td>5845</td>\n",
       "      <td>204575000000</td>\n",
       "    </tr>\n",
       "    <tr>\n",
       "      <th>6</th>\n",
       "      <td>Garry's Mod</td>\n",
       "      <td>15000000</td>\n",
       "      <td>12422</td>\n",
       "      <td>186330000000</td>\n",
       "    </tr>\n",
       "    <tr>\n",
       "      <th>7</th>\n",
       "      <td>Grand Theft Auto V</td>\n",
       "      <td>15000000</td>\n",
       "      <td>9837</td>\n",
       "      <td>147555000000</td>\n",
       "    </tr>\n",
       "    <tr>\n",
       "      <th>8</th>\n",
       "      <td>Unturned</td>\n",
       "      <td>35000000</td>\n",
       "      <td>3248</td>\n",
       "      <td>113680000000</td>\n",
       "    </tr>\n",
       "    <tr>\n",
       "      <th>9</th>\n",
       "      <td>The Elder Scrolls V: Skyrim</td>\n",
       "      <td>15000000</td>\n",
       "      <td>7089</td>\n",
       "      <td>106335000000</td>\n",
       "    </tr>\n",
       "  </tbody>\n",
       "</table>\n",
       "</div>"
      ],
      "text/plain": [
       "                               name      sells  avg_hours_per_user  \\\n",
       "0                            Dota 2  150000000               23944   \n",
       "1     PLAYERUNKNOWN'S BATTLEGROUNDS   75000000               22938   \n",
       "2  Counter-Strike: Global Offensive   75000000               22494   \n",
       "3                   Team Fortress 2   35000000                8495   \n",
       "4                    Counter-Strike   15000000               17612   \n",
       "5                          Warframe   35000000                5845   \n",
       "6                       Garry's Mod   15000000               12422   \n",
       "7                Grand Theft Auto V   15000000                9837   \n",
       "8                          Unturned   35000000                3248   \n",
       "9       The Elder Scrolls V: Skyrim   15000000                7089   \n",
       "\n",
       "   total_hours_played  \n",
       "0       3591600000000  \n",
       "1       1720350000000  \n",
       "2       1687050000000  \n",
       "3        297325000000  \n",
       "4        264180000000  \n",
       "5        204575000000  \n",
       "6        186330000000  \n",
       "7        147555000000  \n",
       "8        113680000000  \n",
       "9        106335000000  "
      ]
     },
     "execution_count": 27,
     "metadata": {},
     "output_type": "execute_result"
    }
   ],
   "source": [
    "top_ten_df"
   ]
  },
  {
   "cell_type": "code",
   "execution_count": 28,
   "metadata": {},
   "outputs": [],
   "source": [
    "top_ten_df.loc[1, 'name'] = 'PUBG'\n",
    "top_ten_df.loc[2, 'name'] = 'CS:GO'\n",
    "top_ten_df.loc[7, 'name'] = 'GTA V'\n",
    "top_ten_df.loc[9, 'name'] = 'Skyrim'"
   ]
  },
  {
   "cell_type": "code",
   "execution_count": 29,
   "metadata": {},
   "outputs": [
    {
     "data": {
      "image/png": "[encoded data removed]",
      "text/plain": [
       "<Figure size 1500x600 with 1 Axes>"
      ]
     },
     "metadata": {},
     "output_type": "display_data"
    }
   ],
   "source": [
    "plt.figure(figsize=(15, 6))\n",
    "plt.xticks(rotation=65)\n",
    "\n",
    "sns.barplot(x='name', y='total_hours_played', data=top_ten_df)\n",
    "\n",
    "plt.show()"
   ]
  },
  {
   "cell_type": "markdown",
   "id": "91c856c8",
   "metadata": {},
   "source": [
    "## Cuál es el género de videojuegos más vendido?"
   ]
  },
  {
   "cell_type": "code",
   "execution_count": 30,
   "metadata": {},
   "outputs": [
    {
     "data": {
      "text/plain": [
       "['name',\n",
       " 'release_date',\n",
       " 'developer',\n",
       " 'achievements',\n",
       " 'positive_ratings',\n",
       " 'negative_ratings',\n",
       " 'avg_hours_per_user',\n",
       " 'price',\n",
       " 'sells',\n",
       " 'action',\n",
       " 'adventure',\n",
       " 'rpg',\n",
       " 'simulation',\n",
       " 'strategy',\n",
       " 'racing',\n",
       " 'free_to_play',\n",
       " 'early_access']"
      ]
     },
     "execution_count": 30,
     "metadata": {},
     "output_type": "execute_result"
    }
   ],
   "source": [
    "list(steam_df.columns)"
   ]
  },
  {
   "cell_type": "code",
   "execution_count": 31,
   "metadata": {},
   "outputs": [],
   "source": [
    "grouped_genres = steam_df.groupby(['action', 'adventure', 'rpg', 'simulation', 'strategy',\n",
    "                                  'racing', 'free_to_play',  'early_access'])['sells'].sum().reset_index(name='total_sells')"
   ]
  },
  {
   "cell_type": "code",
   "execution_count": 33,
   "metadata": {},
   "outputs": [],
   "source": [
    "genres = grouped_genres.sort_values(by='total_sells', ascending=False)[\n",
    "    ['action', 'adventure', 'rpg', 'simulation', 'strategy', 'racing', 'free_to_play', 'early_access', 'total_sells']][:5]"
   ]
  },
  {
   "cell_type": "code",
   "execution_count": 35,
   "metadata": {},
   "outputs": [],
   "source": [
    "genres_name = genres.drop(['total_sells'], axis=1)"
   ]
  },
  {
   "cell_type": "code",
   "execution_count": 36,
   "metadata": {},
   "outputs": [],
   "source": [
    "genres_name['genre'] = genres_name.apply(\n",
    "    lambda x: ', '.join(x.index[x]), axis=1)"
   ]
  },
  {
   "cell_type": "code",
   "execution_count": 37,
   "metadata": {},
   "outputs": [],
   "source": [
    "genres['genre'] = genres_name['genre']"
   ]
  },
  {
   "cell_type": "code",
   "execution_count": 38,
   "metadata": {},
   "outputs": [],
   "source": [
    "top_genres = genres[['genre', 'total_sells']]"
   ]
  },
  {
   "cell_type": "code",
   "execution_count": 39,
   "metadata": {},
   "outputs": [
    {
     "data": {
      "text/html": [
       "<div>\n",
       "<style scoped>\n",
       "    .dataframe tbody tr th:only-of-type {\n",
       "        vertical-align: middle;\n",
       "    }\n",
       "\n",
       "    .dataframe tbody tr th {\n",
       "        vertical-align: top;\n",
       "    }\n",
       "\n",
       "    .dataframe thead th {\n",
       "        text-align: right;\n",
       "    }\n",
       "</style>\n",
       "<table border=\"1\" class=\"dataframe\">\n",
       "  <thead>\n",
       "    <tr style=\"text-align: right;\">\n",
       "      <th></th>\n",
       "      <th>genre</th>\n",
       "      <th>total_sells</th>\n",
       "    </tr>\n",
       "  </thead>\n",
       "  <tbody>\n",
       "    <tr>\n",
       "      <th>88</th>\n",
       "      <td>action</td>\n",
       "      <td>699450000</td>\n",
       "    </tr>\n",
       "    <tr>\n",
       "      <th>136</th>\n",
       "      <td>action, adventure</td>\n",
       "      <td>400315000</td>\n",
       "    </tr>\n",
       "    <tr>\n",
       "      <th>90</th>\n",
       "      <td>action, free_to_play</td>\n",
       "      <td>354275000</td>\n",
       "    </tr>\n",
       "    <tr>\n",
       "      <th>48</th>\n",
       "      <td>adventure</td>\n",
       "      <td>191015000</td>\n",
       "    </tr>\n",
       "    <tr>\n",
       "      <th>8</th>\n",
       "      <td>strategy</td>\n",
       "      <td>186130000</td>\n",
       "    </tr>\n",
       "  </tbody>\n",
       "</table>\n",
       "</div>"
      ],
      "text/plain": [
       "                    genre  total_sells\n",
       "88                 action    699450000\n",
       "136     action, adventure    400315000\n",
       "90   action, free_to_play    354275000\n",
       "48              adventure    191015000\n",
       "8                strategy    186130000"
      ]
     },
     "execution_count": 39,
     "metadata": {},
     "output_type": "execute_result"
    }
   ],
   "source": [
    "top_genres"
   ]
  },
  {
   "cell_type": "code",
   "execution_count": 40,
   "metadata": {},
   "outputs": [
    {
     "data": {
      "image/png": "[encoded data removed]",
      "text/plain": [
       "<Figure size 1500x600 with 1 Axes>"
      ]
     },
     "metadata": {},
     "output_type": "display_data"
    }
   ],
   "source": [
    "plt.figure(figsize=(15, 6))\n",
    "plt.xticks(rotation=65)\n",
    "\n",
    "sns.barplot(x='genre', y='total_sells', data=top_genres)\n",
    "\n",
    "plt.show()"
   ]
  },
  {
   "cell_type": "markdown",
   "id": "ae31c80d",
   "metadata": {},
   "source": [
    "## Qué géneros tienen mejores reviews de media?"
   ]
  },
  {
   "cell_type": "code",
   "execution_count": null,
   "metadata": {},
   "outputs": [],
   "source": []
  },
  {
   "cell_type": "markdown",
   "id": "1f001109",
   "metadata": {},
   "source": [
    "## Cuánto ha ganado el desarrollador que más juegos ha vendido?"
   ]
  },
  {
   "cell_type": "code",
   "execution_count": null,
   "id": "52e9622e",
   "metadata": {},
   "outputs": [],
   "source": []
  },
  {
   "cell_type": "markdown",
   "id": "8546f78c",
   "metadata": {},
   "source": [
    "## Cómo afecta a las reviews que un juego sea Early Access?"
   ]
  },
  {
   "cell_type": "code",
   "execution_count": null,
   "id": "775dbf55",
   "metadata": {},
   "outputs": [],
   "source": []
  },
  {
   "cell_type": "markdown",
   "id": "79b52e68",
   "metadata": {},
   "source": [
    "## Cuál es el desarrollador (o desarrolladores) que más tipos de juego y cantidad ha desarrollado?"
   ]
  },
  {
   "cell_type": "code",
   "execution_count": null,
   "id": "b93f440f",
   "metadata": {},
   "outputs": [],
   "source": []
  },
  {
   "cell_type": "markdown",
   "id": "19762f5f",
   "metadata": {},
   "source": [
    "## En qué mes, desde que tenemos datos, se han publicado más juegos?"
   ]
  },
  {
   "cell_type": "code",
   "execution_count": null,
   "id": "13a444d0",
   "metadata": {},
   "outputs": [],
   "source": []
  },
  {
   "cell_type": "markdown",
   "id": "5c8f200a",
   "metadata": {},
   "source": [
    "## Cuántas horas se juega de media a cada tipo de juego mensualmente?"
   ]
  },
  {
   "cell_type": "code",
   "execution_count": null,
   "id": "d068c0c8",
   "metadata": {},
   "outputs": [],
   "source": []
  },
  {
   "cell_type": "markdown",
   "id": "f7004dc2",
   "metadata": {},
   "source": [
    "## Los juegos Free to Play tienen mejores o peores reviews?"
   ]
  },
  {
   "cell_type": "code",
   "execution_count": null,
   "id": "b080651f",
   "metadata": {},
   "outputs": [],
   "source": []
  },
  {
   "cell_type": "markdown",
   "id": "3acaca33",
   "metadata": {},
   "source": [
    "## Cómo ha evolucionado el número de achievements (trofeos) por juego?"
   ]
  },
  {
   "cell_type": "code",
   "execution_count": null,
   "id": "297fc804",
   "metadata": {},
   "outputs": [],
   "source": []
  },
  {
   "cell_type": "markdown",
   "id": "9806da6f",
   "metadata": {},
   "source": [
    "## Bonus! Si tienes curiosidad, y quieres contestar más preguntas, puedes resolverlas aquí mismo!"
   ]
  },
  {
   "cell_type": "code",
   "execution_count": null,
   "id": "640e1f6b",
   "metadata": {},
   "outputs": [],
   "source": []
  }
 ],
 "metadata": {
  "kernelspec": {
   "display_name": "Python 3 (ipykernel)",
   "language": "python",
   "name": "python3"
  },
  "language_info": {
   "codemirror_mode": {
    "name": "ipython",
    "version": 3
   },
   "file_extension": ".py",
   "mimetype": "text/x-python",
   "name": "python",
   "nbconvert_exporter": "python",
   "pygments_lexer": "ipython3",
   "version": "3.11.3"
  },
  "toc": {
   "base_numbering": 1,
   "nav_menu": {},
   "number_sections": true,
   "sideBar": true,
   "skip_h1_title": false,
   "title_cell": "Table of Contents",
   "title_sidebar": "Contents",
   "toc_cell": false,
   "toc_position": {
    "height": "calc(100% - 180px)",
    "left": "10px",
    "top": "150px",
    "width": "409.6px"
   },
   "toc_section_display": true,
   "toc_window_display": true
  }
 },
 "nbformat": 4,
 "nbformat_minor": 5
}
